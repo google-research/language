{
 "cells": [
  {
   "cell_type": "code",
   "execution_count": 2,
   "metadata": {},
   "outputs": [],
   "source": [
    "import numpy as np\n",
    "from pprint import pprint\n",
    "import json\n"
   ]
  },
  {
   "cell_type": "code",
   "execution_count": 2,
   "metadata": {},
   "outputs": [],
   "source": [
    "example_1 = {\n",
    "    \"annotations\": [\n",
    "        {\n",
    "            \"annotation_id\": 9824473826482099305,\n",
    "            \"minimal_answer\": {\"plaintext_end_byte\": -1, \"plaintext_start_byte\": -1},\n",
    "            \"passage_answer\": {\"candidate_index\": 2},\n",
    "            \"yes_no_answer\": \"YES\",\n",
    "        },\n",
    "        {\n",
    "            \"annotation_id\": 9020802343333398197,\n",
    "            \"minimal_answer\": {\"plaintext_end_byte\": -1, \"plaintext_start_byte\": -1},\n",
    "            \"passage_answer\": {\"candidate_index\": 0},\n",
    "            \"yes_no_answer\": \"NO\",\n",
    "        },\n",
    "        {\n",
    "            \"annotation_id\": 17573111662051460994,\n",
    "            \"minimal_answer\": {\"plaintext_end_byte\": -1, \"plaintext_start_byte\": -1},\n",
    "            \"passage_answer\": {\"candidate_index\": 0},\n",
    "            \"yes_no_answer\": \"NO\",\n",
    "        },\n",
    "    ],\n",
    "    \"document_plaintext\": '\\nIn mainstream Nicene Christianity, there is no restriction on kinds of animals that can be eaten.[1][2] This practice stems from Peter\\'s vision of a sheet with animals, described in the Book of Acts, Chapter 10, in which Saint Peter \"sees a sheet containing animals of every description lowered from the sky.\"[3]  Nonetheless, the New Testament does give a few guidelines about the consumption of meat, practiced by the Christian Church today; one of these is not consuming food knowingly offered to pagan idols,[4] a conviction that the early Church Fathers, such as Clement of Alexandria and Origen preached.[5] In addition, Christians traditionally bless any food before eating it with a mealtime prayer (grace), as a sign of thanking God for the meal they have.\\nSlaughtering animals for food is  often done without the trinitarian formula,[6][7] although the Armenian Apostolic Church, among other Orthodox Christians, have rituals that \"display obvious links with shechitah, Jewish kosher slaughter.\"[8] The Bible, states Norman Geisler, stipulates one to \"abstain from food sacrificed to idols, from blood, from meat of strangled animals\".[9]\\nIn the New Testament, Paul of Tarsus notes that some devout Christians may wish to abstain from consuming meat if it causes \"my brother to stumble\" in his faith with God (cf. 1 Corinthians 8:13).[10] As such, some Christian monks, such as the Trappists, have adopted a policy of Christian vegetarianism.[11] In addition, Christians of the Seventh-day Adventist tradition generally \"avoid eating meat and highly spiced food\".[12] Christians in the Anglican, Catholic, Lutheran, Methodist, and Orthodox denominations traditionally observe a meat-free day, especially during the liturgical season of Lent.[13][14][15][16]\\nWith reference to medieval times, Jillian Williams states that \"unlike the Jewish and Muslims methods of animal slaughter, which requires the draining of the animal\\'s blood, Christian slaughter practices did not usually specify the method of slaughter\". In actual practice, states Williams, European Christians have flexibly practiced both the method of draining the blood, and wringing the animal\\'s neck to retain its blood as valuable food.[17] According to Basheer Ahmad Masri, the \"Jewish and the Christian methods of slaughter fulfill the Islamic condition of bleeding the animal\".[18] In contrast, David Grumett and Rachel Muers state that the Orthodox Christian Shechitah and Jewish Kosher methods of slaughter differ from the Muslim Halal (Dabh) method in that they require the cut to \"sever trachea, oesophagus and the jugular veins\" as this method is believed to produce meat with minimal suffering to the animal.\\nSome Christian denominations condone the moderate drinking of alcohol (moderationism), such as Anglicans, Catholics, Lutherans, and the Orthodox,[19] although others, such as  Seventh-day Adventists, Baptists, Methodists, and Pentecostals either abstain from or prohibit the consumption of alcohol (abstentionism and prohibitionism).[20] However, all Christian Churches, in view of the Biblical position on the issue, universally condemn drunkenness as sinful.[21][22]\\nSee also\\n\\nBible Diet\\nChristian vegetarianism\\nChristian views on alcohol\\nFasting and abstinence in the Catholic Church\\nKashrut (Jewish dietary laws)\\nKutha meat\\nIslamic dietary laws\\nPescetarianism\\nSeventh-Day Adventist Church, Health and Diet\\nWord of Wisdom\\n\\n\\n\\n\\n\\n\\n\\n\\n\\n',\n",
    "    \"document_title\": \"Christian dietary laws\",\n",
    "    \"document_url\": \"https://en.wikipedia.org/wiki/Christian%20dietary%20laws\",\n",
    "    \"example_id\": 6177847336319493473,\n",
    "    \"language\": \"english\",\n",
    "    \"passage_answer_candidates\": [\n",
    "        {\"plaintext_end_byte\": 766, \"plaintext_start_byte\": 1},\n",
    "        {\"plaintext_end_byte\": 1149, \"plaintext_start_byte\": 767},\n",
    "        {\"plaintext_end_byte\": 1768, \"plaintext_start_byte\": 1150},\n",
    "        {\"plaintext_end_byte\": 2692, \"plaintext_start_byte\": 1769},\n",
    "        {\"plaintext_end_byte\": 3161, \"plaintext_start_byte\": 2693},\n",
    "        {\"plaintext_end_byte\": 3417, \"plaintext_start_byte\": 3172},\n",
    "    ],\n",
    "    \"question_text\": \"Does Catholicism have any dietary restrictions?\",\n",
    "}\n",
    "example_2 = {\n",
    "    \"annotations\": [\n",
    "        {\n",
    "            \"annotation_id\": 896469894141137617,\n",
    "            \"minimal_answer\": {\"plaintext_end_byte\": -1, \"plaintext_start_byte\": -1},\n",
    "            \"passage_answer\": {\"candidate_index\": -1},\n",
    "            \"yes_no_answer\": \"NONE\",\n",
    "        },\n",
    "        {\n",
    "            \"annotation_id\": 16078811170855026478,\n",
    "            \"minimal_answer\": {\"plaintext_end_byte\": -1, \"plaintext_start_byte\": -1},\n",
    "            \"passage_answer\": {\"candidate_index\": 52},\n",
    "            \"yes_no_answer\": \"YES\",\n",
    "        },\n",
    "        {\n",
    "            \"annotation_id\": 16091152801123294719,\n",
    "            \"minimal_answer\": {\"plaintext_end_byte\": -1, \"plaintext_start_byte\": -1},\n",
    "            \"passage_answer\": {\"candidate_index\": 52},\n",
    "            \"yes_no_answer\": \"YES\",\n",
    "        },\n",
    "    ],\n",
    "    \"document_plaintext\": '\\n日本の貿易史（にほんのぼうえきし）では、gnored (help)\\n Text \" 和書\" ignored (help)\\n Text \" 和書\" ignored (help)\\n Text \" 和書\" ignored (help)\\n Text \" 和書\" ignored (help)\\n Text \" 和書\" ignored (help)\\n Text \" 和書\" ignored (help)\\n Text \" 和書\" ignored (help)\\n Text \" 和書\" ignored (help)\\n Text \" 和書\" ignored (help)（原書  Text \" 洋書\\n\" ignored (help)）\\n Text \" 和書\" ignored (help)\\n Text \" 和書\" ignored (help)\\n Text \" 和書\" ignored (help)\\n Text \" 和書\" ignored (help)\\n Text \" 和書\" ignored (help)\\n Text \" 和書\" ignored (help)\\n Text \" 和書\" ignored (help)\\n論文、記事\\n\\n関連項目\\n\\n経済史\\n山丹交易\\n朱印船貿易\\n商業史\\n長崎貿易\\n南蛮貿易\\n日系人\\n日本の貨幣史\\n日本の経済 - 日本の経済史\\n日元貿易\\n日明貿易\\n日宋貿易\\n日唐貿易\\n貿易理論\\n貿易 - 貿易史\\n北方貿易\\n琉球貿易\\n\\n外部リンク\\n\\n\\n\\n\\n\\n\\n\\n',\n",
    "    \"document_title\": \"日本の貿易史\",\n",
    "    \"document_url\": \"https://ja.wikipedia.org/wiki/%E6%97%A5%E6%9C%AC%E3%81%AE%E8%B2%BF%E6%98%93%E5%8F%B2\",\n",
    "    \"example_id\": -6001319775852403354,\n",
    "    \"language\": \"japanese\",\n",
    "    \"passage_answer_candidates\": [\n",
    "        {\"plaintext_end_byte\": 286, \"plaintext_start_byte\": 1},\n",
    "        {\"plaintext_end_byte\": 1058, \"plaintext_start_byte\": 301},\n",
    "        {\"plaintext_end_byte\": 1701, \"plaintext_start_byte\": 1059},\n",
    "        {\"plaintext_end_byte\": 2261, \"plaintext_start_byte\": 1709},\n",
    "        {\"plaintext_end_byte\": 3144, \"plaintext_start_byte\": 2262},\n",
    "    ],\n",
    "    \"question_text\": \"安土桃山文化は民間貿易が盛んでしたか？\",\n",
    "}\n"
   ]
  },
  {
   "cell_type": "code",
   "execution_count": null,
   "metadata": {},
   "outputs": [],
   "source": [
    " python3 -m language.canine.tydiqa.prepare_tydi_data \\\n",
    "  --input_jsonl=dev_samples/tydiqa-v1.0-dev.jsonl.gz \\\n",
    "  --output_tfrecord=dev_samples/record.tfrecord \\\n",
    "  --record_count_file=dev_samples/record_count.txt \\\n",
    "  --max_seq_length=2048 \\\n",
    "  --doc_stride=512 \\\n",
    "  --max_question_length=256 \\\n",
    "  --is_training=false \\\n",
    "  --desired_language=japanese\n",
    "\n",
    "python3 -m language.canine.tydiqa.prepare_tydi_data \\\n",
    "  --input_jsonl=train_samples/tydiqa-v1.0-train.jsonl.gz \\\n",
    "  --output_tfrecord=train_samples/record.tfrecord \\\n",
    "  --record_count_file=train_samples/record_count.txt \\\n",
    "  --max_seq_length=2048 \\\n",
    "  --doc_stride=512 \\\n",
    "  --max_question_length=256 \\\n",
    "  --include_unknowns=0.1 \\\n",
    "  --is_training=true \\\n",
    "  --desired_language=japanese\n"
   ]
  },
  {
   "cell_type": "code",
   "execution_count": 3,
   "metadata": {},
   "outputs": [],
   "source": [
    "import tensorflow as tf\n",
    "\n",
    "raw_dataset = tf.data.TFRecordDataset(\"dev_samples/record.tfrecord\")\n",
    "\n",
    "for raw_record in raw_dataset.take(1):\n",
    "    example = tf.train.Example()\n",
    "    example.ParseFromString(raw_record.numpy())\n",
    "    # print(example)\n"
   ]
  },
  {
   "cell_type": "code",
   "execution_count": 16,
   "metadata": {},
   "outputs": [
    {
     "data": {
      "text/plain": [
       "23061"
      ]
     },
     "execution_count": 16,
     "metadata": {},
     "output_type": "execute_result"
    }
   ],
   "source": [
    "# dataset = raw_dataset.unique()\n",
    "len(sorted(list(dataset.as_numpy_iterator())))"
   ]
  }
 ],
 "metadata": {
  "kernelspec": {
   "display_name": "MVA",
   "language": "python",
   "name": "python3"
  },
  "language_info": {
   "codemirror_mode": {
    "name": "ipython",
    "version": 3
   },
   "file_extension": ".py",
   "mimetype": "text/x-python",
   "name": "python",
   "nbconvert_exporter": "python",
   "pygments_lexer": "ipython3",
   "version": "3.9.8"
  },
  "orig_nbformat": 4
 },
 "nbformat": 4,
 "nbformat_minor": 2
}
